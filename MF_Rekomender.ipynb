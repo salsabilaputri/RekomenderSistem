{
  "nbformat": 4,
  "nbformat_minor": 0,
  "metadata": {
    "colab": {
      "name": "MF_Rekomender",
      "provenance": []
    },
    "kernelspec": {
      "name": "python3",
      "display_name": "Python 3"
    }
  },
  "cells": [
    {
      "cell_type": "code",
      "metadata": {
        "id": "38g22BM4h8EW",
        "outputId": "41f914d7-1dba-4443-94d6-9f4067f56957",
        "colab": {
          "base_uri": "https://localhost:8080/",
          "height": 221
        }
      },
      "source": [
        "#!/usr/bin/python\n",
        "#\n",
        "# Created by Albert Au Yeung (2010)\n",
        "#\n",
        "# An implementation of matrix factorization\n",
        "#\n",
        "try:\n",
        "    import numpy\n",
        "except:\n",
        "    print (\"This implementation requires the numpy module.\")\n",
        "    exit(0)\n",
        "\n",
        "###############################################################################\n",
        "\n",
        "\"\"\"\n",
        "@INPUT:\n",
        "    R     : a matrix to be factorized, dimension N x M\n",
        "    P     : an initial matrix of dimension N x K\n",
        "    Q     : an initial matrix of dimension M x K\n",
        "    K     : the number of latent features\n",
        "    steps : the maximum number of steps to perform the optimisation\n",
        "    alpha : the learning rate\n",
        "    beta  : the regularization parameter\n",
        "@OUTPUT:\n",
        "    the final matrices P and Q\n",
        "\"\"\"\n",
        "def matrix_factorization(R, P, Q, K, steps=5000, alpha=0.0002, beta=0.02):\n",
        "    Q = Q.T\n",
        "    for step in range(steps):\n",
        "        for i in range(len(R)):\n",
        "            for j in range(len(R[i])):\n",
        "                if R[i][j] > 0:\n",
        "                    eij = R[i][j] - numpy.dot(P[i,:],Q[:,j])\n",
        "                    for k in range(K):\n",
        "                        P[i][k] = P[i][k] + alpha * (2 * eij * Q[k][j] - beta * P[i][k])\n",
        "                        Q[k][j] = Q[k][j] + alpha * (2 * eij * P[i][k] - beta * Q[k][j])\n",
        "        eR = numpy.dot(P,Q)\n",
        "        e = 0\n",
        "        for i in range(len(R)):\n",
        "            for j in range(len(R[i])):\n",
        "                if R[i][j] > 0:\n",
        "                    e = e + pow(R[i][j] - numpy.dot(P[i,:],Q[:,j]), 2)\n",
        "                    for k in range(K):\n",
        "                        e = e + (beta/2) * ( pow(P[i][k],2) + pow(Q[k][j],2) )\n",
        "        if e < 0.001:\n",
        "            break\n",
        "    return P, Q.T\n",
        "\n",
        "###############################################################################\n",
        "\n",
        "if __name__ == \"__main__\":\n",
        "    R = [\n",
        "         [4,2,1,0],\n",
        "         [3,2,0,1],\n",
        "         [3,1,0,5],\n",
        "         [5,2,0,4],\n",
        "         [3,1,5,4],\n",
        "        ]\n",
        "\n",
        "    R = numpy.array(R)\n",
        "\n",
        "    N = len(R)\n",
        "    M = len(R[0])\n",
        "    K = 2\n",
        "\n",
        "    P = numpy.random.rand(N,K)\n",
        "    Q = numpy.random.rand(M,K)\n",
        "\n",
        "    nP, nQ = matrix_factorization(R, P, Q, K)\n",
        "    print(\"The original Matrix\")\n",
        "    print (R)\n",
        "    print(\"The approximation matrix by MF\")\n",
        "    print(numpy.dot(nP,nQ.T))"
      ],
      "execution_count": 3,
      "outputs": [
        {
          "output_type": "stream",
          "text": [
            "The original Matrix\n",
            "[[4 2 1 0]\n",
            " [3 2 0 1]\n",
            " [3 1 0 5]\n",
            " [5 2 0 4]\n",
            " [3 1 5 4]]\n",
            "The approximation matrix by MF\n",
            "[[3.97230322 1.7657649  1.0482889  4.92414925]\n",
            " [2.23184781 0.92586643 2.76295086 2.08519526]\n",
            " [3.57501625 1.57228663 1.49738856 4.25802557]\n",
            " [4.39230366 1.86761201 3.94421075 4.57178105]\n",
            " [3.6318196  1.49457147 4.89202874 3.26905876]]\n"
          ],
          "name": "stdout"
        }
      ]
    },
    {
      "cell_type": "code",
      "metadata": {
        "id": "FWtovF9Kh4Ap"
      },
      "source": [
        ""
      ],
      "execution_count": null,
      "outputs": []
    }
  ]
}